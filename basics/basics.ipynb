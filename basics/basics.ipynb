{
 "cells": [
  {
   "metadata": {
    "ExecuteTime": {
     "end_time": "2025-06-29T19:23:16.050299Z",
     "start_time": "2025-06-29T19:23:16.048393Z"
    }
   },
   "cell_type": "code",
   "source": "import random",
   "id": "af7939d0ea42b557",
   "outputs": [],
   "execution_count": 7
  },
  {
   "metadata": {},
   "cell_type": "markdown",
   "source": "### Input/Output",
   "id": "641d36a6b0383af0"
  },
  {
   "metadata": {
    "collapsed": true,
    "ExecuteTime": {
     "end_time": "2025-06-29T19:23:19.448445Z",
     "start_time": "2025-06-29T19:23:16.062923Z"
    }
   },
   "cell_type": "code",
   "source": [
    "name = input(\"What is your name?\\n\")\n",
    "\n",
    "print(\n",
    "    \"Hello\", name, len(name),\n",
    "    sep=\"|\",\n",
    "    end=\"\\n\"\n",
    ")\n",
    "\n",
    "print('''\n",
    " +------+.\n",
    "|`.    | `.\n",
    "|  `+--+---+\n",
    "|   |  |   |\n",
    "+---+--+.  |\n",
    " `. |    `.|\n",
    "   `+------+\n",
    "''')"
   ],
   "id": "initial_id",
   "outputs": [
    {
     "name": "stdout",
     "output_type": "stream",
     "text": [
      "Hello|CC|2\n",
      "\n",
      " +------+.\n",
      "|`.    | `.\n",
      "|  `+--+---+\n",
      "|   |  |   |\n",
      "+---+--+.  |\n",
      " `. |    `.|\n",
      "   `+------+\n",
      "\n"
     ]
    }
   ],
   "execution_count": 8
  },
  {
   "metadata": {},
   "cell_type": "markdown",
   "source": [
    "### Primitive data types and math operators\n",
    "* String\n",
    "* Integer\n",
    "* Float\n",
    "* Complex\n",
    "* Boolean\n",
    "\n",
    "Java vs Python:\n",
    "\n",
    "| Operation         | Java Syntax | Python Syntax | Description                        |\n",
    "|-------------------|------------|--------------|------------------------------------|\n",
    "| Addition          | `+`        | `+`          | Adds two numbers                   |\n",
    "| Subtraction       | `-`        | `-`          | Subtracts right from left          |\n",
    "| Multiplication    | `*`        | `*`          | Multiplies two numbers             |\n",
    "| Division          | `/`        | `/`          | Java: integer or float division\\*  |\n",
    "| Floor Division    | N/A        | `//`         | Integer division (discard fraction)|\n",
    "| Modulo            | `%`        | `%`          | Remainder after division           |\n",
    "| Exponentiation    | `Math.pow` | `**`         | Power (e.g., 2\\*\\*3 = 8)           |\n",
    "\n",
    "* In Java, `/` does integer division if both operands are integers, otherwise float division.\n",
    "* In Python, `/` always does float division; use `//` for integer division.\n",
    "* Exponentiation in Java uses `Math.pow(a, b)`, while Python has its own operator `a ** b`.\n",
    "\n",
    "* Type of variables can be taken from the context.\n",
    "* Even if we specify a type, it will not be enforced by the compiler\n",
    "* Python is a dynamically typed language (type of variable can be changed)"
   ],
   "id": "a71de6466302df9e"
  },
  {
   "metadata": {
    "ExecuteTime": {
     "end_time": "2025-06-29T19:23:19.468989Z",
     "start_time": "2025-06-29T19:23:19.466514Z"
    }
   },
   "cell_type": "code",
   "source": [
    "# subscripting (strings acts like arrays of characters)\n",
    "first = \"Hello\"[0]\n",
    "last = 'Hello'[-1]\n",
    "\n",
    "# floor division (//) ~ as Java 5 / 2\n",
    "# normal division (/) ~ as Java 5.0 / 2\n",
    "an_int = 5 // 2\n",
    "a_float = 5 / 2\n",
    "a_bool = True\n",
    "a_complex = 3 + 4j    # we can use a constructor: a_complex = complex(3, 4)\n",
    "wrong_type: int = \"not int\"\n",
    "\n",
    "# class operator:\n",
    "print(type(first))\n",
    "\n",
    "# type of variable can change (dynamically typed language)\n",
    "first = True\n",
    "print(type(first))\n",
    "print(type(wrong_type))\n",
    "\n",
    "# exponent operation with **:\n",
    "bmi = 76 / 1.8 **2\n",
    "print(bmi)\n",
    "\n",
    "# convert to integer\n",
    "print(int(bmi))\n",
    "\n",
    "# rounding\n",
    "# f-strings\n",
    "print(f\"Your bmi is: {round(bmi, 2)}\")"
   ],
   "id": "51fffc5c122a834b",
   "outputs": [
    {
     "name": "stdout",
     "output_type": "stream",
     "text": [
      "<class 'str'>\n",
      "<class 'bool'>\n",
      "<class 'str'>\n",
      "23.456790123456788\n",
      "23\n",
      "Your bmi is: 23.46\n"
     ]
    }
   ],
   "execution_count": 9
  },
  {
   "metadata": {},
   "cell_type": "markdown",
   "source": [
    "### Logical operators\n",
    "\n",
    "\n",
    "| Operation      | Java Syntax      | Python Syntax   | Description                        |\n",
    "|----------------|-----------------|----------------|------------------------------------|\n",
    "| AND            | `&&`            | `and`          | True if both operands are true     |\n",
    "| OR             | `\\|\\|`          | `or`           | True if at least one is true       |\n",
    "| NOT            | `!`             | `not`          | Inverts the boolean value          |\n",
    "\n",
    "**Java Example:**\n",
    "\n",
    "```java\n",
    "boolean a = true;\n",
    "boolean b = false;\n",
    "System.out.println(a && b);             // false\n",
    "System.out.println(a || b);             // true\n",
    "System.out.println(!a);                 // false\n",
    "```\n",
    "\n",
    "- Java uses symbols (`&&`, `||`, `!`).\n",
    "- Python uses keywords (`and`, `or`, `not`).\n",
    "- in Python we also have identity operator (is, is not) and membership operator (in, not in)"
   ],
   "id": "4f8b4292cb787326"
  },
  {
   "metadata": {
    "ExecuteTime": {
     "end_time": "2025-06-29T19:23:19.544429Z",
     "start_time": "2025-06-29T19:23:19.541627Z"
    }
   },
   "cell_type": "code",
   "source": [
    "a = True\n",
    "b = False\n",
    "print(a and b)\n",
    "print(a or b)\n",
    "print(not a)"
   ],
   "id": "a822fb1d9d8c6cfd",
   "outputs": [
    {
     "name": "stdout",
     "output_type": "stream",
     "text": [
      "False\n",
      "True\n",
      "False\n"
     ]
    }
   ],
   "execution_count": 10
  },
  {
   "metadata": {},
   "cell_type": "markdown",
   "source": [
    "### Lists\n",
    "\n",
    "* ordered collection of items\n",
    "* mutable\n",
    "* can contain elements of any data type\n",
    "* elements can be accessed by index\n",
    "* allows duplicate elements\n",
    "* can contain any combination of data types\n",
    "* can be nested ( `[[][]]` )"
   ],
   "id": "d397b6db8a56625a"
  },
  {
   "metadata": {
    "ExecuteTime": {
     "end_time": "2025-06-29T19:23:19.569230Z",
     "start_time": "2025-06-29T19:23:19.566190Z"
    }
   },
   "cell_type": "code",
   "source": [
    "fruits = [\"apple\", \"banana\", \"cherry\"]\n",
    "\n",
    "print(\"fruits[0] = \", fruits[0])\n",
    "print(\"fruits[-1] = \", fruits[-1])\n",
    "\n",
    "fruits[1] = \"blueberry\"\n",
    "print(\"sets blueberry at index 1 = \", fruits)\n",
    "\n",
    "fruits.insert(1, \"kiwi\")\n",
    "print(\"insert kiwi at index 1 = \", fruits)\n",
    "\n",
    "fruits.append(\"orange\")\n",
    "print(\"append orange = \", fruits)\n",
    "\n",
    "fruits.remove(\"cherry\")\n",
    "print(\"remove cherry = \", fruits)\n",
    "\n",
    "popped = fruits.pop()\n",
    "print(\"popped = \", popped)\n",
    "print(\"popped = \", fruits)\n",
    "\n",
    "sliced = fruits[1:]\n",
    "print(\"sliced[1:] = \", sliced)\n",
    "\n",
    "print(\"fruits size = \", len(fruits))\n",
    "\n",
    "print(\"check for apple in fruits = \", \"apple\" in fruits)  # True\n",
    "\n",
    "upper_fruits = [fruit.upper() for fruit in fruits]\n",
    "print(\"uppercased fruits = \" , upper_fruits)"
   ],
   "id": "b68c3d788e6e57c7",
   "outputs": [
    {
     "name": "stdout",
     "output_type": "stream",
     "text": [
      "fruits[0] =  apple\n",
      "fruits[-1] =  cherry\n",
      "sets blueberry at index 1 =  ['apple', 'blueberry', 'cherry']\n",
      "insert kiwi at index 1 =  ['apple', 'kiwi', 'blueberry', 'cherry']\n",
      "append orange =  ['apple', 'kiwi', 'blueberry', 'cherry', 'orange']\n",
      "remove cherry =  ['apple', 'kiwi', 'blueberry', 'orange']\n",
      "popped =  orange\n",
      "popped =  ['apple', 'kiwi', 'blueberry']\n",
      "sliced[1:] =  ['kiwi', 'blueberry']\n",
      "fruits size =  3\n",
      "check for apple in fruits =  True\n",
      "uppercased fruits =  ['APPLE', 'KIWI', 'BLUEBERRY']\n"
     ]
    }
   ],
   "execution_count": 11
  },
  {
   "metadata": {},
   "cell_type": "markdown",
   "source": [
    "### Dictionaries\n",
    "\n",
    "* key - value store\n",
    "* key-value pairs, ordered (as of Python 3.7+)\n",
    "* mutable\n",
    "* elements accessed by keys\n",
    "* like in the case of lists, any combination of data types are permitted\n",
    "* keys must be unique and immutable, but values may repeat\n",
    "* can be nested( `{{}{}}` )"
   ],
   "id": "17c778e522feb5a1"
  },
  {
   "metadata": {
    "ExecuteTime": {
     "end_time": "2025-06-29T19:23:19.601767Z",
     "start_time": "2025-06-29T19:23:19.599470Z"
    }
   },
   "cell_type": "code",
   "source": [
    "colors = {\n",
    "    1: \"red\",\n",
    "    2: \"blue\",\n",
    "    3: \"yellow\",\n",
    "}\n",
    "\n",
    "print(colors[2])\n",
    "colors[4] = \"violet\"\n",
    "print(colors[4])\n",
    "colors[4] = \"green\"\n",
    "\n",
    "for key in colors:\n",
    "    print(f\"{key} - {colors[key]}\")"
   ],
   "id": "aa48f7717e26b690",
   "outputs": [
    {
     "name": "stdout",
     "output_type": "stream",
     "text": [
      "blue\n",
      "violet\n",
      "1 - red\n",
      "2 - blue\n",
      "3 - yellow\n",
      "4 - green\n"
     ]
    }
   ],
   "execution_count": 12
  },
  {
   "metadata": {},
   "cell_type": "markdown",
   "source": [
    "### Sets\n",
    "* unordered collection of unique elements\n",
    "* mutable\n",
    "* elements must be immutable (e.g., numbers, strings, tuples)\n",
    "* does not allow duplicate elements\n",
    "* no indexing or slicing (cannot access elements by position)\n",
    "* supports set operations (union, intersection, difference, etc.)\n",
    "* can be nested only if using frozenset (not regular set)\n",
    "* dynamic size (can grow or shrink)"
   ],
   "id": "6324da7e88285654"
  },
  {
   "metadata": {
    "ExecuteTime": {
     "end_time": "2025-06-29T19:23:19.624568Z",
     "start_time": "2025-06-29T19:23:19.622434Z"
    }
   },
   "cell_type": "code",
   "source": [
    "unique_numbers = {1, 3, 2, 5, 4, 5}\n",
    "\n",
    "unique_numbers.discard(2)\n",
    "\n",
    "print(unique_numbers)"
   ],
   "id": "ebc1c8314dd2a50",
   "outputs": [
    {
     "name": "stdout",
     "output_type": "stream",
     "text": [
      "{1, 3, 4, 5}\n"
     ]
    }
   ],
   "execution_count": 13
  },
  {
   "metadata": {},
   "cell_type": "markdown",
   "source": [
    "### Tuples\n",
    "* ordered collection of items\n",
    "* immutable (cannot be changed after creation)\n",
    "* fixed size (cannot add or remove elements after creation)\n",
    "* can contain elements of any data type\n",
    "* elements can be accessed by index (supports negative indexing)\n",
    "* allows duplicate elements\n",
    "* supports nesting (tuples within tuples)\n",
    "* can be used as dictionary keys if all elements are immutable\n",
    "* supports slicing and iteration"
   ],
   "id": "63f8020f6de6e40b"
  },
  {
   "metadata": {
    "ExecuteTime": {
     "end_time": "2025-06-29T19:23:19.650769Z",
     "start_time": "2025-06-29T19:23:19.649027Z"
    }
   },
   "cell_type": "code",
   "source": [
    "fruit_tuple = (\"banana\", \"orange\", \"melon\")\n",
    "print(fruit_tuple[2])"
   ],
   "id": "95f95323d227959f",
   "outputs": [
    {
     "name": "stdout",
     "output_type": "stream",
     "text": [
      "melon\n"
     ]
    }
   ],
   "execution_count": 14
  },
  {
   "metadata": {},
   "cell_type": "markdown",
   "source": "### Control flow",
   "id": "50496e103d4c77d6"
  },
  {
   "metadata": {
    "ExecuteTime": {
     "end_time": "2025-06-29T19:23:19.669107Z",
     "start_time": "2025-06-29T19:23:19.667164Z"
    }
   },
   "cell_type": "code",
   "source": [
    "random_int = random.randint(1, 20)\n",
    "\n",
    "if random_int <= 7:\n",
    "    print(\"if |\", random_int)\n",
    "elif 7 < random_int < 14:\n",
    "    print(\"elif |\", random_int)\n",
    "else:\n",
    "    print(\"else |\", random_int)"
   ],
   "id": "a471a7e47f966275",
   "outputs": [
    {
     "name": "stdout",
     "output_type": "stream",
     "text": [
      "if | 7\n"
     ]
    }
   ],
   "execution_count": 15
  },
  {
   "metadata": {},
   "cell_type": "markdown",
   "source": [
    "### Loops\n",
    "\n",
    "* for loops have the \"for each\" form or can have a predefined number of passes (using the range)"
   ],
   "id": "9d6de9e42112a401"
  },
  {
   "metadata": {
    "ExecuteTime": {
     "end_time": "2025-06-29T19:23:19.689345Z",
     "start_time": "2025-06-29T19:23:19.685953Z"
    }
   },
   "cell_type": "code",
   "source": [
    "fruits = [\"apple\", \"banana\", \"cherry\"]\n",
    "scores = [34, 56, 78, 32, 45, 67, 89, 33, 24, 78, 21, 33, 67, 65]\n",
    "\n",
    "for fruit in fruits:\n",
    "    print(fruit)\n",
    "\n",
    "# 0 1 2 3 4 (default step of 1)\n",
    "for it in range(5):\n",
    "    print(it)\n",
    "\n",
    "# 10, 11, 12, 13, 14\n",
    "for it in range(10, 15):\n",
    "    print(it)\n",
    "\n",
    "# 0 2 4 (step of 2)\n",
    "for it in range(0, 5, 2):\n",
    "    print(it)\n",
    "\n",
    "\n",
    "it = 5\n",
    "while it > 0:\n",
    "    print(it)\n",
    "    it -= 1\n",
    "\n",
    "\n",
    "while it >= 0:\n",
    "    it += 1\n",
    "    if it == 3:\n",
    "        break\n",
    "print(it)\n",
    "\n",
    "\n",
    "\n",
    "# builtins\n",
    "sum_of_scores = sum(scores)\n",
    "max_of_scores = max(scores)"
   ],
   "id": "a014f63bc0a3b9b",
   "outputs": [
    {
     "name": "stdout",
     "output_type": "stream",
     "text": [
      "apple\n",
      "banana\n",
      "cherry\n",
      "0\n",
      "1\n",
      "2\n",
      "3\n",
      "4\n",
      "10\n",
      "11\n",
      "12\n",
      "13\n",
      "14\n",
      "0\n",
      "2\n",
      "4\n",
      "5\n",
      "4\n",
      "3\n",
      "2\n",
      "1\n",
      "3\n"
     ]
    }
   ],
   "execution_count": 16
  },
  {
   "metadata": {},
   "cell_type": "markdown",
   "source": [
    "### Functions\n",
    "\n",
    "* if we don't specify parameter type, then Any is the defined type\n",
    "* even if we specify the param type, we can call the function with another argument type\n",
    "* we can even change the order of the arguments in a call, by explicitly specifying the parameter name\n",
    "* if we pass immutable objects (like int, string, tuple), then even if we mutate them inside the function, this will not change the original object\n",
    "* mutable objects (like list, dict) can be affected by changes inside the function\n",
    "* in a py file a called function must be defined in the lines before the calling line\n"
   ],
   "id": "d79c4413756dc6f"
  },
  {
   "metadata": {
    "ExecuteTime": {
     "end_time": "2025-06-29T19:23:19.711914Z",
     "start_time": "2025-06-29T19:23:19.709242Z"
    }
   },
   "cell_type": "code",
   "source": [
    "arg1 = \"John\"\n",
    "arg2 = \"Doe\"\n",
    "arg3 = 5\n",
    "\n",
    "def function_with_any_param(param1, param2):\n",
    "    print(\"This is a function with params:\", param1, param2, sep=\" \")\n",
    "\n",
    "\n",
    "def function_with_defined_param(param1: str, param2: int):\n",
    "    print(\"This is a function with defined params:\", param1, param2, sep=\" \")\n",
    "\n",
    "\n",
    "def function_with_return_type():\n",
    "    return arg1\n",
    "\n",
    "\n",
    "def function_with_default_value_param(x = 5):\n",
    "    return x**2\n",
    "\n",
    "\n",
    "function_with_any_param(arg1, arg2)\n",
    "function_with_defined_param(arg1, arg3)\n",
    "function_with_defined_param(param2=arg3, param1=arg1)\n",
    "print(function_with_return_type())\n",
    "print(function_with_default_value_param(4))\n",
    "print(function_with_default_value_param())"
   ],
   "id": "7498d5618a26c18e",
   "outputs": [
    {
     "name": "stdout",
     "output_type": "stream",
     "text": [
      "This is a function with params: John Doe\n",
      "This is a function with defined params: John 5\n",
      "This is a function with defined params: John 5\n",
      "John\n",
      "16\n",
      "25\n"
     ]
    }
   ],
   "execution_count": 17
  },
  {
   "metadata": {},
   "cell_type": "markdown",
   "source": "### Lambda function",
   "id": "659dca55048a38e3"
  },
  {
   "metadata": {
    "ExecuteTime": {
     "end_time": "2025-06-29T19:23:19.728790Z",
     "start_time": "2025-06-29T19:23:19.726807Z"
    }
   },
   "cell_type": "code",
   "source": [
    "x = lambda a: a + 10\n",
    "y = lambda a, b: a * b\n",
    "\n",
    "\n",
    "print(x(5))\n",
    "print(y(2, 3))"
   ],
   "id": "f6db3361d3209469",
   "outputs": [
    {
     "name": "stdout",
     "output_type": "stream",
     "text": [
      "15\n",
      "6\n"
     ]
    }
   ],
   "execution_count": 18
  }
 ],
 "metadata": {
  "kernelspec": {
   "display_name": "Python 3",
   "language": "python",
   "name": "python3"
  },
  "language_info": {
   "codemirror_mode": {
    "name": "ipython",
    "version": 2
   },
   "file_extension": ".py",
   "mimetype": "text/x-python",
   "name": "python",
   "nbconvert_exporter": "python",
   "pygments_lexer": "ipython2",
   "version": "2.7.6"
  }
 },
 "nbformat": 4,
 "nbformat_minor": 5
}
