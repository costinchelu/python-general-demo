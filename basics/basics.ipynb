{
 "cells": [
  {
   "metadata": {},
   "cell_type": "code",
   "source": "import random",
   "id": "af7939d0ea42b557",
   "outputs": [],
   "execution_count": null
  },
  {
   "metadata": {},
   "cell_type": "markdown",
   "source": "### Input/Output",
   "id": "641d36a6b0383af0"
  },
  {
   "metadata": {
    "collapsed": true
   },
   "cell_type": "code",
   "source": [
    "from random import randint\n",
    "\n",
    "name = input(\"What is your name?\\n\")\n",
    "\n",
    "print(\n",
    "    \"Hello\", name, len(name),\n",
    "    sep=\"|\",\n",
    "    end=\"\\n\"\n",
    ")\n",
    "\n",
    "print('''\n",
    "Multi-line:\n",
    "\n",
    "   ..eeeee..\n",
    " e8\"   8   \"8e\n",
    "d8     8     8b\n",
    "8!   .dWb.   !8\n",
    "Y8 .e* 8 *e. 8P\n",
    " *8*   8   *8*\n",
    "   **ee8ee**\n",
    "''')"
   ],
   "id": "initial_id",
   "outputs": [],
   "execution_count": null
  },
  {
   "metadata": {},
   "cell_type": "markdown",
   "source": [
    "### Primitive data types and operations\n",
    "* Strings\n",
    "* Integers\n",
    "* Floats\n",
    "* Booleans\n",
    "\n",
    "Java vs Python:\n",
    "\n",
    "| Operation         | Java Syntax | Python Syntax | Description                        |\n",
    "|-------------------|------------|--------------|------------------------------------|\n",
    "| Addition          | `+`        | `+`          | Adds two numbers                   |\n",
    "| Subtraction       | `-`        | `-`          | Subtracts right from left          |\n",
    "| Multiplication    | `*`        | `*`          | Multiplies two numbers             |\n",
    "| Division          | `/`        | `/`          | Java: integer or float division\\*  |\n",
    "| Floor Division    | N/A        | `//`         | Integer division (discard fraction)|\n",
    "| Modulo            | `%`        | `%`          | Remainder after division           |\n",
    "| Exponentiation    | `Math.pow` | `**`         | Power (e.g., 2\\*\\*3 = 8)           |\n",
    "\n",
    "In Java, `/` does integer division if both operands are integers, otherwise float division.\n",
    "In Python, `/` always does float division; use `//` for integer division.\n",
    "Exponentiation in Java uses `Math.pow(a, b)`, while Python uses `a ** b`."
   ],
   "id": "a71de6466302df9e"
  },
  {
   "metadata": {},
   "cell_type": "code",
   "source": [
    "# subscripting\n",
    "first = \"Hello\"[0]\n",
    "last = \"Hello\"[-1]\n",
    "\n",
    "# floor division (//) ~ as Java 5 / 2\n",
    "# normal division (/) ~ as Java 5.0 / 2\n",
    "an_int = 5 // 2\n",
    "a_float = 5 / 2\n",
    "a_bool = True\n",
    "\n",
    "# class operator:\n",
    "print(type(first))\n",
    "\n",
    "\n",
    "# exponent operation with **:\n",
    "bmi = 76 / 1.8 **2\n",
    "print(bmi)\n",
    "\n",
    "# convert to integer\n",
    "print(int(bmi))\n",
    "\n",
    "# rounding\n",
    "# f-strings\n",
    "print(f\"Your bmi is: {round(bmi, 2)}\")"
   ],
   "id": "51fffc5c122a834b",
   "outputs": [],
   "execution_count": null
  },
  {
   "metadata": {},
   "cell_type": "markdown",
   "source": "### Control flow",
   "id": "50496e103d4c77d6"
  },
  {
   "metadata": {},
   "cell_type": "code",
   "source": [
    "random_int = random.randint(1, 20)\n",
    "\n",
    "if random_int <= 7:\n",
    "    print(\"if |\", random_int)\n",
    "elif 7 < random_int < 14:\n",
    "    print(\"elif |\", random_int)\n",
    "else:\n",
    "    print(\"else |\", random_int)"
   ],
   "id": "a471a7e47f966275",
   "outputs": [],
   "execution_count": null
  },
  {
   "metadata": {},
   "cell_type": "markdown",
   "source": [
    "### Logical operators\n",
    "\n",
    "\n",
    "| Operation      | Java Syntax      | Python Syntax   | Description                        |\n",
    "|----------------|-----------------|----------------|------------------------------------|\n",
    "| AND            | `&&`            | `and`          | True if both operands are true     |\n",
    "| OR             | `\\|\\|`          | `or`           | True if at least one is true       |\n",
    "| NOT            | `!`             | `not`          | Inverts the boolean value          |\n",
    "\n",
    "**Java Example:**\n",
    "\n",
    "```java\n",
    "boolean a = true;\n",
    "boolean b = false;\n",
    "System.out.println(a && b);             // false\n",
    "System.out.println(a || b);             // true\n",
    "System.out.println(!a);                 // false\n",
    "```\n",
    "\n",
    "- Java uses symbols (`&&`, `||`, `!`).\n",
    "- Python uses keywords (`and`, `or`, `not`)."
   ],
   "id": "4f8b4292cb787326"
  },
  {
   "metadata": {},
   "cell_type": "code",
   "source": [
    "a = True\n",
    "b = False\n",
    "print(a and b)\n",
    "print(a or b)\n",
    "print(not a)"
   ],
   "id": "a822fb1d9d8c6cfd",
   "outputs": [],
   "execution_count": null
  },
  {
   "metadata": {},
   "cell_type": "markdown",
   "source": [
    "### Lists\n",
    "\n",
    "* can contain any data type\n",
    "* can contain any combination of data types\n",
    "* we can create nested lists too ( `[[][]]` )"
   ],
   "id": "d397b6db8a56625a"
  },
  {
   "metadata": {},
   "cell_type": "code",
   "source": [
    "fruits = [\"apple\", \"banana\", \"cherry\"]\n",
    "\n",
    "print(\"fruits[0] = \", fruits[0])\n",
    "print(\"fruits[-1] = \", fruits[-1])\n",
    "\n",
    "fruits[1] = \"blueberry\"\n",
    "print(\"replace[1] with blueberry = \", fruits)\n",
    "\n",
    "fruits.append(\"date\")\n",
    "print(\"append date = \", fruits)\n",
    "\n",
    "fruits.insert(1, \"kiwi\")\n",
    "print(\"insert kiwi at index 1 = \", fruits)\n",
    "\n",
    "fruits.remove(\"cherry\")\n",
    "print(\"remove cherry = \", fruits)\n",
    "\n",
    "popped = fruits.pop()\n",
    "print(\"popped = \", popped)\n",
    "print(\"popped = \", fruits)\n",
    "\n",
    "sliced = fruits[1:]\n",
    "print(\"sliced[1:] = \", sliced)\n",
    "\n",
    "print(\"fruits size = \", len(fruits))\n",
    "\n",
    "print(\"apple in fruits = \", \"apple\" in fruits)  # True\n",
    "\n",
    "upper_fruits = [fruit.upper() for fruit in fruits]\n",
    "print(\"uppercased fruits = \" , upper_fruits)"
   ],
   "id": "b68c3d788e6e57c7",
   "outputs": [],
   "execution_count": null
  },
  {
   "metadata": {},
   "cell_type": "markdown",
   "source": "### Loops",
   "id": "9d6de9e42112a401"
  },
  {
   "metadata": {},
   "cell_type": "code",
   "source": [
    "fruits = [\"apple\", \"banana\", \"cherry\"]\n",
    "scores = [34, 56, 78, 32, 45, 67, 89, 33, 24, 78, 21, 33, 67, 65]\n",
    "\n",
    "for fruit in fruits:\n",
    "    print(fruit)\n",
    "\n",
    "# 0 1 2 3 4 (default step of 1)\n",
    "for it in range(5):\n",
    "    print(it)\n",
    "\n",
    "# 10, 11, 12, 13, 14\n",
    "for it in range(10, 15):\n",
    "    print(it)\n",
    "\n",
    "# 0 2 4 (step of 2)\n",
    "for it in range(0, 5, 2):\n",
    "    print(it)\n",
    "\n",
    "it = 5\n",
    "while it > 0:\n",
    "    print(it)\n",
    "    it -= 1\n",
    "\n",
    "\n",
    "# builtins\n",
    "sum_of_scores = sum(scores)\n",
    "max_of_scores = max(scores)\n",
    "\n"
   ],
   "id": "a014f63bc0a3b9b",
   "outputs": [],
   "execution_count": null
  },
  {
   "metadata": {},
   "cell_type": "markdown",
   "source": "### Functions",
   "id": "d79c4413756dc6f"
  },
  {
   "metadata": {},
   "cell_type": "code",
   "source": [
    "def a_function():\n",
    "    print(\"That is a function returning nothing!\")\n",
    "\n",
    "a_function()\n",
    "\n",
    "\n",
    "\n"
   ],
   "id": "7498d5618a26c18e",
   "outputs": [],
   "execution_count": null
  }
 ],
 "metadata": {
  "kernelspec": {
   "display_name": "Python 3",
   "language": "python",
   "name": "python3"
  },
  "language_info": {
   "codemirror_mode": {
    "name": "ipython",
    "version": 2
   },
   "file_extension": ".py",
   "mimetype": "text/x-python",
   "name": "python",
   "nbconvert_exporter": "python",
   "pygments_lexer": "ipython2",
   "version": "2.7.6"
  }
 },
 "nbformat": 4,
 "nbformat_minor": 5
}
